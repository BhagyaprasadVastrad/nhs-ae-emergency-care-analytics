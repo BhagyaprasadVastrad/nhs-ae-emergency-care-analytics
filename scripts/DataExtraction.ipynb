{
 "cells": [
  {
   "cell_type": "code",
   "execution_count": 16,
   "id": "b2809364-47b6-40ab-9639-a77957983bcf",
   "metadata": {},
   "outputs": [
    {
     "name": "stdout",
     "output_type": "stream",
     "text": [
      "✅ Data extraction complete. Combined file saved to: data\\A&E_cleaned_combined.csv\n"
     ]
    }
   ],
   "source": [
    "import pandas as pd\n",
    "import os\n",
    "\n",
    "# Define your folder path containing monthly files\n",
    "folder_path = \"data\"\n",
    "\n",
    "# Define the columns you want to extract\n",
    "required_columns = [\n",
    "    \"Org Code\",\n",
    "    \"Org name\",\n",
    "    \"Period\",\n",
    "    \"A&E attendances Type 1\",\n",
    "    \"A&E attendances Type 2\",\n",
    "    \"A&E attendances Other A&E Department\",\n",
    "    \"Attendances over 4hrs Type 1\",\n",
    "    \"Patients who have waited 4-12 hs from DTA to admission\",\n",
    "    \"Patients who have waited 12+ hrs from DTA to admission\",\n",
    "    \"Emergency admissions via A&E - Type 1\",\n",
    "    \"Emergency admissions via A&E - Other A&E department\"\n",
    "]\n",
    "\n",
    "# Create an empty list to hold each month's DataFrame\n",
    "all_data = []\n",
    "\n",
    "# Loop through each file in the folder\n",
    "for file in os.listdir(folder_path):\n",
    "    if file.endswith(\".csv\"):\n",
    "        file_path = os.path.join(folder_path, file)\n",
    "        df = pd.read_csv(file_path)\n",
    "        \n",
    "        # Extract month from filename and create 'Month' column value\n",
    "        month_str = file.replace('.csv','').strip()\n",
    "        \n",
    "        # Convert to first date of month format (yyyy-mm-01)\n",
    "        month_mapping = {\n",
    "            'January': '01',\n",
    "            'February': '02',\n",
    "            'March': '03',\n",
    "            'April': '04',\n",
    "            'May': '05',\n",
    "            'June': '06',\n",
    "            'July': '07',\n",
    "            'August': '08',\n",
    "            'September': '09',\n",
    "            'October': '10',\n",
    "            'November': '11',\n",
    "            'December': '12'\n",
    "        }\n",
    "        \n",
    "        # Split filename to get month and year\n",
    "        parts = month_str.split()\n",
    "        month_num = month_mapping[parts[0]]\n",
    "        year = parts[1]\n",
    "        month_value = f\"{year}-{month_num}-01\"\n",
    "        \n",
    "        # Extract required columns only\n",
    "        df_required = df[required_columns].copy()\n",
    "        \n",
    "        # Add Month column\n",
    "        df_required[\"Month\"] = month_value\n",
    "        \n",
    "        # Append to list\n",
    "        all_data.append(df_required)\n",
    "\n",
    "# Combine all monthly data into a single DataFrame\n",
    "final_df = pd.concat(all_data, ignore_index=True)\n",
    "\n",
    "# Save to new CSV file\n",
    "output_path = os.path.join(folder_path, \"A&E_cleaned_combined.csv\")\n",
    "final_df.to_csv(output_path, index=False)\n",
    "\n",
    "print(f\"✅ Data extraction complete. Combined file saved to: {output_path}\")\n"
   ]
  },
  {
   "cell_type": "code",
   "execution_count": 17,
   "id": "908b2144-76bb-40d7-93b3-90405746f3b7",
   "metadata": {},
   "outputs": [
    {
     "name": "stdout",
     "output_type": "stream",
     "text": [
      "Total rows in combined data: 2384\n",
      "2024-04-01: 198 rows\n",
      "2024-08-01: 199 rows\n",
      "2024-12-01: 199 rows\n",
      "2025-02-01: 199 rows\n",
      "2025-01-01: 199 rows\n",
      "2024-07-01: 199 rows\n",
      "2024-06-01: 198 rows\n",
      "2025-03-01: 199 rows\n",
      "2024-05-01: 198 rows\n",
      "2024-11-01: 199 rows\n",
      "2024-10-01: 199 rows\n",
      "2024-09-01: 198 rows\n"
     ]
    }
   ],
   "source": [
    "print(\"Total rows in combined data:\", final_df.shape[0])\n",
    "for month in final_df[\"Month\"].unique():\n",
    "    count = final_df[final_df[\"Month\"] == month].shape[0]\n",
    "    print(f\"{month}: {count} rows\")"
   ]
  },
  {
   "cell_type": "code",
   "execution_count": 18,
   "id": "ba849bb1-b70c-4675-b6ad-8665e16d6ee8",
   "metadata": {},
   "outputs": [
    {
     "name": "stdout",
     "output_type": "stream",
     "text": [
      "✅ Data extraction complete. Combined file saved to: data\\A&E_cleaned_combined.csv\n"
     ]
    }
   ],
   "source": [
    "# Combine all monthly data into a single DataFrame\n",
    "final_df = pd.concat(all_data, ignore_index=True)\n",
    "\n",
    "# Sort by Month for clarity\n",
    "final_df = final_df.sort_values(by=\"Month\").reset_index(drop=True)\n",
    "\n",
    "# Save to new CSV file\n",
    "output_path = os.path.join(folder_path, \"A&E_cleaned_combined.csv\")\n",
    "final_df.to_csv(output_path, index=False)\n",
    "\n",
    "print(f\"✅ Data extraction complete. Combined file saved to: {output_path}\")"
   ]
  },
  {
   "cell_type": "code",
   "execution_count": null,
   "id": "3d4bdbcc-2702-439b-911e-98ff8d7f3568",
   "metadata": {},
   "outputs": [],
   "source": []
  }
 ],
 "metadata": {
  "kernelspec": {
   "display_name": "Python 3 (ipykernel)",
   "language": "python",
   "name": "python3"
  },
  "language_info": {
   "codemirror_mode": {
    "name": "ipython",
    "version": 3
   },
   "file_extension": ".py",
   "mimetype": "text/x-python",
   "name": "python",
   "nbconvert_exporter": "python",
   "pygments_lexer": "ipython3",
   "version": "3.11.0"
  }
 },
 "nbformat": 4,
 "nbformat_minor": 5
}
